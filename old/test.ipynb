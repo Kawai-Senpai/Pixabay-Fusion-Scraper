{
 "cells": [
  {
   "cell_type": "code",
   "execution_count": 1,
   "metadata": {},
   "outputs": [],
   "source": [
    "import time\n",
    "import json\n",
    "import os\n",
    "from seleniumwire import webdriver  # Import from seleniumwire\n",
    "from selenium.webdriver.common.by import By\n",
    "from selenium.webdriver.support.ui import WebDriverWait\n",
    "from selenium.webdriver.support import expected_conditions as EC\n",
    "from selenium.webdriver.firefox.options import Options\n",
    "import requests\n",
    "from ultraprint.logging import logger"
   ]
  },
  {
   "cell_type": "code",
   "execution_count": 2,
   "metadata": {},
   "outputs": [
    {
     "name": "stdout",
     "output_type": "stream",
     "text": [
      "\u001b[90m [2024-12-20 12:03:25] [DEBUG] [scraping_log] Initializing the Firefox WebDriver\u001b[00m\n",
      "\u001b[90m [2024-12-20 12:03:25] [DEBUG] [scraping_log] Setting the download directory to e:\\Python and AI\\Web Scraping\\Pixabay_Scraper\\data\\audio_files\u001b[00m\n",
      "\u001b[90m [2024-12-20 12:03:30] [DEBUG] [scraping_log] Loading the page at https://pixabay.com/music/search/?order=ec&pagi=\u001b[00m\n"
     ]
    }
   ],
   "source": [
    "\n",
    "# Create a logger object\n",
    "log = logger('scraping_log', include_extra_info=False, write_to_file=False, log_level='DEBUG')\n",
    "\n",
    "# Initialize the driver\n",
    "log.debug(\"Initializing the Firefox WebDriver\")\n",
    "\n",
    "# Parameters\n",
    "base_url = \"https://pixabay.com/music/search/?order=ec&pagi=\"\n",
    "audio_folder = \"data\\\\audio_files\"\n",
    "max_pages = 100\n",
    "\n",
    "# set default download directory\n",
    "download_dir = os.path.join(os.getcwd(), audio_folder)\n",
    "\n",
    "# Set the download directory\n",
    "log.debug(f\"Setting the download directory to {download_dir}\")\n",
    "profile = webdriver.FirefoxProfile()\n",
    "profile.set_preference(\"browser.download.folderList\", 2)\n",
    "profile.set_preference(\"browser.download.manager.showWhenStarting\", False)\n",
    "profile.set_preference(\"browser.download.dir\", download_dir)\n",
    "profile.set_preference(\"browser.helperApps.neverAsk.saveToDisk\", \"audio/mpeg\")\n",
    "profile.set_preference(\"browser.download.useDownloadDir\", True)\n",
    "profile.set_preference(\"browser.download.panel.shown\", False)\n",
    "\n",
    "options = Options()\n",
    "options.profile = profile\n",
    "driver = webdriver.Firefox(options=options)\n",
    "\n",
    "# Load the page\n",
    "log.debug(f\"Loading the page at {base_url}\")\n",
    "driver.get(base_url+\"1\")\n",
    "\n",
    "if not os.path.exists(audio_folder):\n",
    "    log.debug(f\"Creating audio folder at {audio_folder}\")\n",
    "    os.makedirs(audio_folder)"
   ]
  },
  {
   "cell_type": "code",
   "execution_count": 3,
   "metadata": {},
   "outputs": [
    {
     "name": "stdout",
     "output_type": "stream",
     "text": [
      "\u001b[90m [2024-12-20 12:03:34] [DEBUG] [scraping_log] Loading the audio page at https://pixabay.com/music/vlog-music-beat-trailer-showreel-promo-background-intro-theme-274290/\u001b[00m\n"
     ]
    }
   ],
   "source": [
    "media_items = driver.find_elements(By.CLASS_NAME, \"name--q8l1g\")\n",
    "item = media_items[0]\n",
    "\n",
    "# get the href\n",
    "audio_page_link = item.get_attribute(\"href\")\n",
    "\n",
    "# Load the audio page (new tab)\n",
    "log.debug(f\"Loading the audio page at {audio_page_link}\")\n",
    "\n",
    "# Open a new tab\n",
    "driver.execute_script(\"window.open('');\")\n",
    "driver.switch_to.window(driver.window_handles[1])\n",
    "driver.get(audio_page_link)"
   ]
  },
  {
   "cell_type": "code",
   "execution_count": 4,
   "metadata": {},
   "outputs": [],
   "source": [
    "def get_downloaded_file_name():\n",
    "    for request in driver.requests:\n",
    "        if request.response and 'cdn.pixabay.com/download/audio' in request.url:\n",
    "            file_name = request.url.split('filename=')[-1]\n",
    "            return file_name"
   ]
  },
  {
   "cell_type": "code",
   "execution_count": 11,
   "metadata": {},
   "outputs": [],
   "source": [
    "title_card = driver.find_element(By.CLASS_NAME, \"title--VRujt\")\n",
    "music_name = title_card.text\n",
    "\n",
    "attribution_card = driver.find_element(By.CLASS_NAME, \"userName--owby3\")\n",
    "credits = attribution_card.get_attribute(\"href\")\n",
    "\n",
    "tags_parent = driver.find_element(By.CLASS_NAME, \"tagsSection--8gH54\")\n",
    "tags_cards = tags_parent.find_elements(By.CLASS_NAME, \"label--Ngqjq\")\n",
    "tags = [tag.text for tag in tags_cards]\n",
    "\n",
    "side_panel = driver.find_element(By.CLASS_NAME, \"sidePanel--XFASR\")\n",
    "downlaod_button = side_panel.find_element(By.CLASS_NAME, \"triggerWrapper--NACCC\")\n",
    "final_download_button = downlaod_button.find_element(By.TAG_NAME, \"button\")\n",
    "downlaod_button.click()\n",
    "\n",
    "# Wait for the download button to appear\n",
    "WebDriverWait(driver, 10).until(\n",
    "    EC.presence_of_element_located((By.CLASS_NAME, \"buttons--cqw3Y\"))\n",
    ")\n",
    "\n",
    "download_button_card = driver.find_element(By.CLASS_NAME, \"buttons--cqw3Y\")\n",
    "button = download_button_card.find_element(By.CLASS_NAME, \"label--Ngqjq\")\n",
    "button.click()\n",
    "\n",
    "file_name = get_downloaded_file_name()"
   ]
  },
  {
   "cell_type": "code",
   "execution_count": 16,
   "metadata": {},
   "outputs": [],
   "source": [
    "side_panel = driver.find_element(By.CLASS_NAME, \"sidePanel--XFASR\")\n",
    "downlaod_button = side_panel.find_element(By.CLASS_NAME, \"triggerWrapper--NACCC\")\n",
    "final_download_button = downlaod_button.find_element(By.TAG_NAME, \"button\")\n",
    "downlaod_button.click()\n",
    "\n",
    "# Wait for the download button to appear\n",
    "WebDriverWait(driver, 10).until(\n",
    "    EC.presence_of_element_located((By.CLASS_NAME, \"buttons--cqw3Y\"))\n",
    ")\n",
    "\n",
    "download_button_card = driver.find_element(By.CLASS_NAME, \"buttons--cqw3Y\")\n",
    "button = download_button_card.find_element(By.CLASS_NAME, \"label--Ngqjq\")\n",
    "button.click()"
   ]
  },
  {
   "cell_type": "code",
   "execution_count": 16,
   "metadata": {},
   "outputs": [],
   "source": [
    "#close the current tab and switch back to the main tab\n",
    "driver.close()\n",
    "driver.switch_to.window(driver.window_handles[0])"
   ]
  },
  {
   "cell_type": "code",
   "execution_count": 17,
   "metadata": {},
   "outputs": [],
   "source": [
    "driver.get(base_url+\"2\")"
   ]
  }
 ],
 "metadata": {
  "kernelspec": {
   "display_name": "Python 3",
   "language": "python",
   "name": "python3"
  },
  "language_info": {
   "codemirror_mode": {
    "name": "ipython",
    "version": 3
   },
   "file_extension": ".py",
   "mimetype": "text/x-python",
   "name": "python",
   "nbconvert_exporter": "python",
   "pygments_lexer": "ipython3",
   "version": "3.11.2"
  }
 },
 "nbformat": 4,
 "nbformat_minor": 2
}
